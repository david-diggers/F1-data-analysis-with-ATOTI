{
 "cells": [
  {
   "cell_type": "markdown",
   "metadata": {},
   "source": [
    "# F1 statistics & simulation"
   ]
  },
  {
   "cell_type": "markdown",
   "metadata": {},
   "source": [
    "## Introduction\n",
    "Jupyter notebook created by David Chevrier, Diggers  \n",
    "Built on ActivePivot Python library, Community version  \n",
    "http://diggers-consulting.com  \n",
    "contact@diggers-consulting.com  \n",
    "March 2020"
   ]
  },
  {
   "cell_type": "markdown",
   "metadata": {},
   "source": [
    "## Data source\n",
    "Data from https://ergast.com/mrd/db/#csv or https://www.kaggle.com/draeg82/exploration-of-f1-dataset/data  \n",
    "Race data from 1950 to 2019\n"
   ]
  },
  {
   "cell_type": "markdown",
   "metadata": {},
   "source": [
    "## 1. Initialization & creation of Activepivot session"
   ]
  },
  {
   "cell_type": "code",
   "execution_count": 1,
   "metadata": {},
   "outputs": [],
   "source": [
    "import activeviam as av\n",
    "import numpy as np\n",
    "import pandas as pd\n",
    "\n",
    "session = av.create_session()"
   ]
  },
  {
   "cell_type": "markdown",
   "metadata": {},
   "source": [
    "## 2. Creation of Stores"
   ]
  },
  {
   "cell_type": "code",
   "execution_count": 2,
   "metadata": {},
   "outputs": [],
   "source": [
    "# types definition to correctly import data in stores\n",
    "resultsTypes = {\n",
    "    \"points\": av.types.DOUBLE,\n",
    "}"
   ]
  },
  {
   "cell_type": "code",
   "execution_count": 4,
   "metadata": {},
   "outputs": [],
   "source": [
    "sDrivers = session.read_csv(\"./drivers.csv\", keys=[\"driverId\"], store_name=\"F1 drivers\")"
   ]
  },
  {
   "cell_type": "code",
   "execution_count": 7,
   "metadata": {},
   "outputs": [],
   "source": [
    "#sRaces = session.read_csv(\"./races.csv\", keys=['raceId','circuitId','year'], store_name=\"F1 races\")\n",
    "sRaces = session.read_csv(\"./races.csv\", keys=['raceId'], store_name=\"F1 races\")"
   ]
  },
  {
   "cell_type": "code",
   "execution_count": 8,
   "metadata": {},
   "outputs": [],
   "source": [
    "#sResults = session.read_csv(\"./results.csv\", keys=['resultId','raceId','driverId'], store_name=\"F1 results\", types=resultsTypes)\n",
    "sResults = session.read_csv(\"./results.csv\", keys=['resultId'], store_name=\"F1 results\", types=resultsTypes)"
   ]
  },
  {
   "cell_type": "code",
   "execution_count": null,
   "metadata": {},
   "outputs": [],
   "source": [
    "sDriverStandings = session.read_csv(\"./driver_standings.csv\", keys=[\"driverStandingsId\"], store_name=\"F1 driver standings\")"
   ]
  },
  {
   "cell_type": "code",
   "execution_count": 14,
   "metadata": {},
   "outputs": [
    {
     "name": "stdout",
     "output_type": "stream",
     "text": [
      "Number of results:  {'rows': 24614, 'columns': 18} \n",
      "Number of driver_standings:  {'rows': 32342, 'columns': 7}\n"
     ]
    }
   ],
   "source": [
    "print('Number of results: ',sResults.shape,'\\nNumber of driver_standings: ',sDriverStandings.shape)"
   ]
  },
  {
   "cell_type": "code",
   "execution_count": 15,
   "metadata": {},
   "outputs": [],
   "source": [
    "sResults.join(sDrivers,mapping={\"driverId\":\"driverId\"})\n",
    "sResults.join(sRaces, mapping={\"raceId\": \"raceId\"})\n",
    "#sResults.head(joined_columns=True)"
   ]
  },
  {
   "cell_type": "code",
   "execution_count": null,
   "metadata": {},
   "outputs": [],
   "source": [
    "#sResults.head(joined_columns=True).columns"
   ]
  },
  {
   "cell_type": "code",
   "execution_count": 10,
   "metadata": {},
   "outputs": [],
   "source": [
    "# joins between stores\n",
    "sDriverStandings.join(sDrivers,mapping={\"driverId\":\"driverId\"})\n",
    "sDriverStandings.join(sRaces, mapping={\"raceId\": \"raceId\"})"
   ]
  },
  {
   "cell_type": "code",
   "execution_count": 11,
   "metadata": {},
   "outputs": [],
   "source": [
    "#load_all_data necessary otherwise stores are loaded with 10000 lines max\n",
    "session.load_all_data()"
   ]
  },
  {
   "cell_type": "markdown",
   "metadata": {},
   "source": [
    "## 3. Cube"
   ]
  },
  {
   "cell_type": "markdown",
   "metadata": {},
   "source": [
    "### Cube for Race Rresults"
   ]
  },
  {
   "cell_type": "code",
   "execution_count": 16,
   "metadata": {},
   "outputs": [],
   "source": [
    "f1cube= session.create_cube(sResults,\"F1Cube\")"
   ]
  },
  {
   "cell_type": "code",
   "execution_count": 17,
   "metadata": {},
   "outputs": [],
   "source": [
    "l = f1cube.levels\n",
    "m = f1cube.measures\n",
    "h = f1cube.hierarchies"
   ]
  },
  {
   "cell_type": "code",
   "execution_count": 18,
   "metadata": {},
   "outputs": [
    {
     "data": {
      "text/plain": [
       "'http://localhost:58296'"
      ]
     },
     "execution_count": 18,
     "metadata": {},
     "output_type": "execute_result"
    }
   ],
   "source": [
    "session.url"
   ]
  },
  {
   "cell_type": "markdown",
   "metadata": {},
   "source": [
    "### Cube for driver standings"
   ]
  },
  {
   "cell_type": "code",
   "execution_count": 96,
   "metadata": {},
   "outputs": [],
   "source": [
    "f1stdcube= session.create_cube(sDriverStandings,\"F1StdCube\")\n",
    "ls = f1stdcube.levels\n",
    "ms = f1stdcube.measures\n",
    "hs = f1stdcube.hierarchies"
   ]
  },
  {
   "cell_type": "markdown",
   "metadata": {},
   "source": [
    "## 4. First data visualization"
   ]
  },
  {
   "cell_type": "markdown",
   "metadata": {},
   "source": [
    "### dataviz1\n",
    "A simple data visualization showing a table with the total number of races by driver, sorted by descending 'count' field"
   ]
  },
  {
   "cell_type": "code",
   "execution_count": 20,
   "metadata": {
    "activeviam": {
     "state": {
      "name": "Total number of races by driver",
      "type": "container",
      "value": {
       "body": {
        "configuration": {
         "tabular": {
          "columnOrder": {
           "args": {
            "orderedColumns": [
             "[Hierarchies].[driverRef].[driverRef]",
             "[Hierarchies].[driverId].[driverId]",
             "[Measures].[contributors.COUNT]"
            ]
           },
           "key": "explicit"
          },
          "columnsGroups": [
           {
            "captionProducer": "firstColumn",
            "cellFactory": "kpi-status",
            "selector": "kpi-status"
           },
           {
            "captionProducer": "firstColumn",
            "cellFactory": "lookup",
            "selector": "lookup"
           },
           {
            "captionProducer": "expiry",
            "cellFactory": "expiry",
            "selector": "kpi-expiry"
           }
          ],
          "defaultOptions": {},
          "hideAddButton": true,
          "lineNumbers": true,
          "sortingMode": "breaking",
          "statisticsShown": true
         }
        },
        "contextValues": {},
        "mdx": "WITH  Member [Measures].[[Hierarchies]].[driverRef]].[driverRef]]_for_order] AS [Hierarchies].[driverRef].CurrentMember.MEMBER_VALUE  SELECT NON EMPTY Order(Crossjoin([Hierarchies].[driverRef].[driverRef].Members, [Hierarchies].[driverId].[driverId].Members), [Measures].[contributors.COUNT], BDESC) ON ROWS, [Measures].[contributors.COUNT] ON COLUMNS FROM [F1Cube] CELL PROPERTIES BACK_COLOR, FONT_FLAGS, FORE_COLOR, FORMATTED_VALUE, VALUE",
        "ranges": {
         "column": {
          "chunkSize": 50,
          "thresholdPercentage": 0.2
         },
         "row": {
          "chunkSize": 2000,
          "thresholdPercentage": 0.1
         }
        },
        "serverUrl": "",
        "updateMode": "once"
       },
       "containerKey": "tabular-view",
       "showTitleBar": false,
       "style": {}
      }
     }
    }
   },
   "outputs": [
    {
     "data": {
      "application/vnd.activeviam.v0+json": {
       "cube": "F1Cube",
       "name": "Total number of races by driver",
       "session": "Unnamed"
      },
      "text/plain": [
       "Install the ActiveViam JupyterLab extension to see this widget."
      ]
     },
     "metadata": {},
     "output_type": "display_data"
    }
   ],
   "source": [
    "f1cube.visualize('Total number of races by driver')"
   ]
  },
  {
   "cell_type": "markdown",
   "metadata": {},
   "source": [
    "## 5 Measures and first queries"
   ]
  },
  {
   "cell_type": "code",
   "execution_count": 21,
   "metadata": {},
   "outputs": [],
   "source": [
    "# Definition of the measure aggregating the number of points on 2 particular levels: races and drivers\n",
    "m['Total Points']=av.agg.sum(m['points.SUM'], on = ('driverId','raceId'))"
   ]
  },
  {
   "cell_type": "markdown",
   "metadata": {},
   "source": [
    "### query1\n",
    "A simple query that returns a dataframe with the total number of points aggregated by driver forname,surname"
   ]
  },
  {
   "cell_type": "code",
   "execution_count": 101,
   "metadata": {},
   "outputs": [
    {
     "data": {
      "text/html": [
       "<div>\n",
       "<style scoped>\n",
       "    .dataframe tbody tr th:only-of-type {\n",
       "        vertical-align: middle;\n",
       "    }\n",
       "\n",
       "    .dataframe tbody tr th {\n",
       "        vertical-align: top;\n",
       "    }\n",
       "\n",
       "    .dataframe thead th {\n",
       "        text-align: right;\n",
       "    }\n",
       "</style>\n",
       "<table border=\"1\" class=\"dataframe\">\n",
       "  <thead>\n",
       "    <tr style=\"text-align: right;\">\n",
       "      <th></th>\n",
       "      <th></th>\n",
       "      <th>Total Points</th>\n",
       "    </tr>\n",
       "    <tr>\n",
       "      <th>driverForename</th>\n",
       "      <th>driverSurname</th>\n",
       "      <th></th>\n",
       "    </tr>\n",
       "  </thead>\n",
       "  <tbody>\n",
       "    <tr>\n",
       "      <th>Adolf</th>\n",
       "      <th>Brudes</th>\n",
       "      <td>0.0</td>\n",
       "    </tr>\n",
       "    <tr>\n",
       "      <th>Adolfo</th>\n",
       "      <th>Cruz</th>\n",
       "      <td>0.0</td>\n",
       "    </tr>\n",
       "    <tr>\n",
       "      <th>Adrian</th>\n",
       "      <th>Sutil</th>\n",
       "      <td>124.0</td>\n",
       "    </tr>\n",
       "    <tr>\n",
       "      <th>Adrián</th>\n",
       "      <th>Campos</th>\n",
       "      <td>0.0</td>\n",
       "    </tr>\n",
       "    <tr>\n",
       "      <th>Aguri</th>\n",
       "      <th>Suzuki</th>\n",
       "      <td>8.0</td>\n",
       "    </tr>\n",
       "    <tr>\n",
       "      <th>...</th>\n",
       "      <th>...</th>\n",
       "      <td>...</td>\n",
       "    </tr>\n",
       "    <tr>\n",
       "      <th>Zsolt</th>\n",
       "      <th>Baumgartner</th>\n",
       "      <td>1.0</td>\n",
       "    </tr>\n",
       "    <tr>\n",
       "      <th>Élie</th>\n",
       "      <th>Bayol</th>\n",
       "      <td>2.0</td>\n",
       "    </tr>\n",
       "    <tr>\n",
       "      <th>Éric</th>\n",
       "      <th>Bernard</th>\n",
       "      <td>10.0</td>\n",
       "    </tr>\n",
       "    <tr>\n",
       "      <th>Érik</th>\n",
       "      <th>Comas</th>\n",
       "      <td>7.0</td>\n",
       "    </tr>\n",
       "    <tr>\n",
       "      <th>Óscar</th>\n",
       "      <th>González</th>\n",
       "      <td>0.0</td>\n",
       "    </tr>\n",
       "  </tbody>\n",
       "</table>\n",
       "<p>846 rows × 1 columns</p>\n",
       "</div>"
      ],
      "text/plain": [
       "                              Total Points\n",
       "driverForename driverSurname              \n",
       "Adolf          Brudes                  0.0\n",
       "Adolfo         Cruz                    0.0\n",
       "Adrian         Sutil                 124.0\n",
       "Adrián         Campos                  0.0\n",
       "Aguri          Suzuki                  8.0\n",
       "...                                    ...\n",
       "Zsolt          Baumgartner             1.0\n",
       "Élie           Bayol                   2.0\n",
       "Éric           Bernard                10.0\n",
       "Érik           Comas                   7.0\n",
       "Óscar          González                0.0\n",
       "\n",
       "[846 rows x 1 columns]"
      ]
     },
     "execution_count": 101,
     "metadata": {},
     "output_type": "execute_result"
    }
   ],
   "source": [
    "dfq1=f1cube.query(m['Total Points'],levels=[l[\"driverForename\"],l[\"driverSurname\"]])\n",
    "dfq1"
   ]
  },
  {
   "cell_type": "markdown",
   "metadata": {},
   "source": [
    "### query2\n",
    "A similar query with the addition of the condition parameters, used as a filter on levels (not possible as of today on the measure)"
   ]
  },
  {
   "cell_type": "code",
   "execution_count": 23,
   "metadata": {},
   "outputs": [
    {
     "data": {
      "text/html": [
       "<div>\n",
       "<style scoped>\n",
       "    .dataframe tbody tr th:only-of-type {\n",
       "        vertical-align: middle;\n",
       "    }\n",
       "\n",
       "    .dataframe tbody tr th {\n",
       "        vertical-align: top;\n",
       "    }\n",
       "\n",
       "    .dataframe thead th {\n",
       "        text-align: right;\n",
       "    }\n",
       "</style>\n",
       "<table border=\"1\" class=\"dataframe\">\n",
       "  <thead>\n",
       "    <tr style=\"text-align: right;\">\n",
       "      <th></th>\n",
       "      <th></th>\n",
       "      <th>Total Points</th>\n",
       "    </tr>\n",
       "    <tr>\n",
       "      <th>driverForename</th>\n",
       "      <th>driverSurname</th>\n",
       "      <th></th>\n",
       "    </tr>\n",
       "  </thead>\n",
       "  <tbody>\n",
       "    <tr>\n",
       "      <th>Alain</th>\n",
       "      <th>Prost</th>\n",
       "      <td>798.5</td>\n",
       "    </tr>\n",
       "  </tbody>\n",
       "</table>\n",
       "</div>"
      ],
      "text/plain": [
       "                              Total Points\n",
       "driverForename driverSurname              \n",
       "Alain          Prost                 798.5"
      ]
     },
     "execution_count": 23,
     "metadata": {},
     "output_type": "execute_result"
    }
   ],
   "source": [
    "dfq2=f1cube.query(m['Total Points'],levels=[l[\"driverForename\"],l[\"driverSurname\"]],condition=l[\"driverSurname\"]==\"Prost\")\n",
    "dfq2\n",
    "# check data here: https://www.statsf1.com/en/alain-prost.aspx"
   ]
  },
  {
   "cell_type": "markdown",
   "metadata": {},
   "source": [
    "### query3\n",
    "Another query returning a datafram aggregating the Total points mesaure by driver and by year"
   ]
  },
  {
   "cell_type": "code",
   "execution_count": 24,
   "metadata": {},
   "outputs": [
    {
     "data": {
      "text/html": [
       "<div>\n",
       "<style scoped>\n",
       "    .dataframe tbody tr th:only-of-type {\n",
       "        vertical-align: middle;\n",
       "    }\n",
       "\n",
       "    .dataframe tbody tr th {\n",
       "        vertical-align: top;\n",
       "    }\n",
       "\n",
       "    .dataframe thead th {\n",
       "        text-align: right;\n",
       "    }\n",
       "</style>\n",
       "<table border=\"1\" class=\"dataframe\">\n",
       "  <thead>\n",
       "    <tr style=\"text-align: right;\">\n",
       "      <th></th>\n",
       "      <th></th>\n",
       "      <th>Total Points</th>\n",
       "    </tr>\n",
       "    <tr>\n",
       "      <th>driverRef</th>\n",
       "      <th>year</th>\n",
       "      <th></th>\n",
       "    </tr>\n",
       "  </thead>\n",
       "  <tbody>\n",
       "    <tr>\n",
       "      <th>Cannoc</th>\n",
       "      <th>1971</th>\n",
       "      <td>0.0</td>\n",
       "    </tr>\n",
       "    <tr>\n",
       "      <th>Changy</th>\n",
       "      <th>1959</th>\n",
       "      <td>0.0</td>\n",
       "    </tr>\n",
       "    <tr>\n",
       "      <th>abate</th>\n",
       "      <th>1963</th>\n",
       "      <td>0.0</td>\n",
       "    </tr>\n",
       "    <tr>\n",
       "      <th rowspan=\"2\" valign=\"top\">abecassis</th>\n",
       "      <th>1951</th>\n",
       "      <td>0.0</td>\n",
       "    </tr>\n",
       "    <tr>\n",
       "      <th>1952</th>\n",
       "      <td>0.0</td>\n",
       "    </tr>\n",
       "    <tr>\n",
       "      <th>...</th>\n",
       "      <th>...</th>\n",
       "      <td>...</td>\n",
       "    </tr>\n",
       "    <tr>\n",
       "      <th rowspan=\"2\" valign=\"top\">zorzi</th>\n",
       "      <th>1976</th>\n",
       "      <td>0.0</td>\n",
       "    </tr>\n",
       "    <tr>\n",
       "      <th>1977</th>\n",
       "      <td>1.0</td>\n",
       "    </tr>\n",
       "    <tr>\n",
       "      <th rowspan=\"3\" valign=\"top\">zunino</th>\n",
       "      <th>1979</th>\n",
       "      <td>0.0</td>\n",
       "    </tr>\n",
       "    <tr>\n",
       "      <th>1980</th>\n",
       "      <td>0.0</td>\n",
       "    </tr>\n",
       "    <tr>\n",
       "      <th>1981</th>\n",
       "      <td>0.0</td>\n",
       "    </tr>\n",
       "  </tbody>\n",
       "</table>\n",
       "<p>3096 rows × 1 columns</p>\n",
       "</div>"
      ],
      "text/plain": [
       "                Total Points\n",
       "driverRef year              \n",
       "Cannoc    1971           0.0\n",
       "Changy    1959           0.0\n",
       "abate     1963           0.0\n",
       "abecassis 1951           0.0\n",
       "          1952           0.0\n",
       "...                      ...\n",
       "zorzi     1976           0.0\n",
       "          1977           1.0\n",
       "zunino    1979           0.0\n",
       "          1980           0.0\n",
       "          1981           0.0\n",
       "\n",
       "[3096 rows x 1 columns]"
      ]
     },
     "execution_count": 24,
     "metadata": {},
     "output_type": "execute_result"
    }
   ],
   "source": [
    "#dfq3 = f1cube.query(m['Total Points'],levels=[l[\"driverRef\"],l[\"driverForename\"],l[\"driverSurname\"],l[\"year\"]])\n",
    "dfq3 = f1cube.query(m['Total Points'],levels=[l[\"driverRef\"],l[\"year\"]])\n",
    "dfq3"
   ]
  },
  {
   "cell_type": "code",
   "execution_count": 102,
   "metadata": {},
   "outputs": [
    {
     "data": {
      "text/html": [
       "<div>\n",
       "<style scoped>\n",
       "    .dataframe tbody tr th:only-of-type {\n",
       "        vertical-align: middle;\n",
       "    }\n",
       "\n",
       "    .dataframe tbody tr th {\n",
       "        vertical-align: top;\n",
       "    }\n",
       "\n",
       "    .dataframe thead th {\n",
       "        text-align: right;\n",
       "    }\n",
       "</style>\n",
       "<table border=\"1\" class=\"dataframe\">\n",
       "  <thead>\n",
       "    <tr style=\"text-align: right;\">\n",
       "      <th></th>\n",
       "      <th></th>\n",
       "      <th>Total Points</th>\n",
       "    </tr>\n",
       "    <tr>\n",
       "      <th>driverRef</th>\n",
       "      <th>year</th>\n",
       "      <th></th>\n",
       "    </tr>\n",
       "  </thead>\n",
       "  <tbody>\n",
       "    <tr>\n",
       "      <th rowspan=\"2\" valign=\"top\">adamich</th>\n",
       "      <th>1972</th>\n",
       "      <td>3.0</td>\n",
       "    </tr>\n",
       "    <tr>\n",
       "      <th>1973</th>\n",
       "      <td>3.0</td>\n",
       "    </tr>\n",
       "    <tr>\n",
       "      <th>agabashian</th>\n",
       "      <th>1953</th>\n",
       "      <td>1.5</td>\n",
       "    </tr>\n",
       "    <tr>\n",
       "      <th>alan_brown</th>\n",
       "      <th>1952</th>\n",
       "      <td>2.0</td>\n",
       "    </tr>\n",
       "    <tr>\n",
       "      <th>albers</th>\n",
       "      <th>2005</th>\n",
       "      <td>4.0</td>\n",
       "    </tr>\n",
       "    <tr>\n",
       "      <th>...</th>\n",
       "      <th>...</th>\n",
       "      <td>...</td>\n",
       "    </tr>\n",
       "    <tr>\n",
       "      <th rowspan=\"2\" valign=\"top\">wurz</th>\n",
       "      <th>2005</th>\n",
       "      <td>6.0</td>\n",
       "    </tr>\n",
       "    <tr>\n",
       "      <th>2007</th>\n",
       "      <td>13.0</td>\n",
       "    </tr>\n",
       "    <tr>\n",
       "      <th>zanardi</th>\n",
       "      <th>1993</th>\n",
       "      <td>1.0</td>\n",
       "    </tr>\n",
       "    <tr>\n",
       "      <th>zonta</th>\n",
       "      <th>2000</th>\n",
       "      <td>3.0</td>\n",
       "    </tr>\n",
       "    <tr>\n",
       "      <th>zorzi</th>\n",
       "      <th>1977</th>\n",
       "      <td>1.0</td>\n",
       "    </tr>\n",
       "  </tbody>\n",
       "</table>\n",
       "<p>1424 rows × 1 columns</p>\n",
       "</div>"
      ],
      "text/plain": [
       "                 Total Points\n",
       "driverRef  year              \n",
       "adamich    1972           3.0\n",
       "           1973           3.0\n",
       "agabashian 1953           1.5\n",
       "alan_brown 1952           2.0\n",
       "albers     2005           4.0\n",
       "...                       ...\n",
       "wurz       2005           6.0\n",
       "           2007          13.0\n",
       "zanardi    1993           1.0\n",
       "zonta      2000           3.0\n",
       "zorzi      1977           1.0\n",
       "\n",
       "[1424 rows x 1 columns]"
      ]
     },
     "execution_count": 102,
     "metadata": {},
     "output_type": "execute_result"
    }
   ],
   "source": [
    "# You can then manipulate your dataframe like any other pandas dataframe, applying filtrer for example\n",
    "#type(dfq3)\n",
    "#dfq3.keys\n",
    "dfq3[dfq3['Total Points']>0]"
   ]
  },
  {
   "cell_type": "code",
   "execution_count": 27,
   "metadata": {},
   "outputs": [
    {
     "data": {
      "text/plain": [
       "13.0"
      ]
     },
     "execution_count": 27,
     "metadata": {},
     "output_type": "execute_result"
    }
   ],
   "source": [
    "# in this case the resulting dataframe is multiindexed\n",
    "dfq3.loc[\"alesi\"].loc[1990]['Total Points']"
   ]
  },
  {
   "cell_type": "markdown",
   "metadata": {},
   "source": [
    "### dataviz2\n",
    "Data visualization of the top-5 drivers with the highest total of points in their whole career"
   ]
  },
  {
   "cell_type": "code",
   "execution_count": 29,
   "metadata": {
    "activeviam": {
     "state": {
      "name": "TOP-5 drivers with highest total points in career",
      "type": "container",
      "value": {
       "body": {
        "configuration": {
         "mapping": {
          "splitBy": [
           "[Hierarchies].[driverRef].[driverRef]"
          ],
          "values": [
           "[Measures].[Total Points]"
          ]
         },
         "plotly": {
          "layout": {
           "yaxis": {
            "categoryorder": "total ascending"
           }
          }
         },
         "switchedTo": "plotly-clustered-bar-chart",
         "type": "plotly-tree-map"
        },
        "query": {
         "mdx": "SELECT NON EMPTY [Hierarchies].[driverRef].[driverRef].Members ON ROWS, NON EMPTY [Measures].[Total Points] ON COLUMNS FROM (SELECT TopCount(Filter([Hierarchies].[driverRef].Levels(1).Members, NOT IsEmpty([Measures].[Total Points])), 5, [Measures].[Total Points]) ON COLUMNS FROM [F1Cube]) CELL PROPERTIES VALUE, FORMATTED_VALUE, BACK_COLOR, FORE_COLOR, FONT_FLAGS",
         "serverUrl": "",
         "updateMode": "once"
        }
       },
       "containerKey": "chart",
       "showTitleBar": false,
       "style": {}
      }
     }
    }
   },
   "outputs": [
    {
     "data": {
      "application/vnd.activeviam.v0+json": {
       "cube": "F1Cube",
       "name": "TOP-5 drivers with highest total points in career",
       "session": "Unnamed"
      },
      "text/plain": [
       "Install the ActiveViam JupyterLab extension to see this widget."
      ]
     },
     "metadata": {},
     "output_type": "display_data"
    }
   ],
   "source": [
    "## check here in the widget configuration the \"TopCount\" filter used to select only the top-5\n",
    "## check here the cell metadata to sort the data in the chart\n",
    "#     \"plotly\": {\n",
    "#         \"layout\": {\n",
    "#             \"yaxis\": {\n",
    "#                 \"categoryorder\": \"total ascending\"\n",
    "#             }\n",
    "#         }\n",
    "#     },\n",
    "f1cube.visualize('TOP-5 drivers with highest total points in career')"
   ]
  },
  {
   "cell_type": "code",
   "execution_count": 176,
   "metadata": {},
   "outputs": [],
   "source": [
    "# preparing the world champions dataframe \n",
    "dfwc = pd.DataFrame(index=range(1950,2020),columns=['driverRef','Total Points'])"
   ]
  },
  {
   "cell_type": "code",
   "execution_count": 97,
   "metadata": {},
   "outputs": [
    {
     "data": {
      "text/html": [
       "<div>\n",
       "<style scoped>\n",
       "    .dataframe tbody tr th:only-of-type {\n",
       "        vertical-align: middle;\n",
       "    }\n",
       "\n",
       "    .dataframe tbody tr th {\n",
       "        vertical-align: top;\n",
       "    }\n",
       "\n",
       "    .dataframe thead th {\n",
       "        text-align: right;\n",
       "    }\n",
       "</style>\n",
       "<table border=\"1\" class=\"dataframe\">\n",
       "  <thead>\n",
       "    <tr style=\"text-align: right;\">\n",
       "      <th></th>\n",
       "      <th></th>\n",
       "      <th></th>\n",
       "      <th>contributors.COUNT</th>\n",
       "    </tr>\n",
       "    <tr>\n",
       "      <th>year</th>\n",
       "      <th>raceId</th>\n",
       "      <th>driverRef</th>\n",
       "      <th></th>\n",
       "    </tr>\n",
       "  </thead>\n",
       "  <tbody>\n",
       "    <tr>\n",
       "      <th rowspan=\"5\" valign=\"top\">1950</th>\n",
       "      <th rowspan=\"5\" valign=\"top\">833</th>\n",
       "      <th>bira</th>\n",
       "      <td>1</td>\n",
       "    </tr>\n",
       "    <tr>\n",
       "      <th>cabantous</th>\n",
       "      <td>1</td>\n",
       "    </tr>\n",
       "    <tr>\n",
       "      <th>chiron</th>\n",
       "      <td>1</td>\n",
       "    </tr>\n",
       "    <tr>\n",
       "      <th>claes</th>\n",
       "      <td>1</td>\n",
       "    </tr>\n",
       "    <tr>\n",
       "      <th>crossley</th>\n",
       "      <td>1</td>\n",
       "    </tr>\n",
       "    <tr>\n",
       "      <th>...</th>\n",
       "      <th>...</th>\n",
       "      <th>...</th>\n",
       "      <td>...</td>\n",
       "    </tr>\n",
       "    <tr>\n",
       "      <th rowspan=\"5\" valign=\"top\">2020</th>\n",
       "      <th rowspan=\"5\" valign=\"top\">1031</th>\n",
       "      <th>ricciardo</th>\n",
       "      <td>1</td>\n",
       "    </tr>\n",
       "    <tr>\n",
       "      <th>russell</th>\n",
       "      <td>1</td>\n",
       "    </tr>\n",
       "    <tr>\n",
       "      <th>sainz</th>\n",
       "      <td>1</td>\n",
       "    </tr>\n",
       "    <tr>\n",
       "      <th>stroll</th>\n",
       "      <td>1</td>\n",
       "    </tr>\n",
       "    <tr>\n",
       "      <th>vettel</th>\n",
       "      <td>1</td>\n",
       "    </tr>\n",
       "  </tbody>\n",
       "</table>\n",
       "<p>32342 rows × 1 columns</p>\n",
       "</div>"
      ],
      "text/plain": [
       "                       contributors.COUNT\n",
       "year raceId driverRef                    \n",
       "1950 833    bira                        1\n",
       "            cabantous                   1\n",
       "            chiron                      1\n",
       "            claes                       1\n",
       "            crossley                    1\n",
       "...                                   ...\n",
       "2020 1031   ricciardo                   1\n",
       "            russell                     1\n",
       "            sainz                       1\n",
       "            stroll                      1\n",
       "            vettel                      1\n",
       "\n",
       "[32342 rows x 1 columns]"
      ]
     },
     "execution_count": 97,
     "metadata": {},
     "output_type": "execute_result"
    }
   ],
   "source": [
    "f1stdcube.query(ms[\"contributors.COUNT\"],levels=[ls[\"year\"],ls[\"raceId\"],ls[\"driverRef\"]])"
   ]
  },
  {
   "cell_type": "code",
   "execution_count": 177,
   "metadata": {},
   "outputs": [
    {
     "data": {
      "text/html": [
       "<div>\n",
       "<style scoped>\n",
       "    .dataframe tbody tr th:only-of-type {\n",
       "        vertical-align: middle;\n",
       "    }\n",
       "\n",
       "    .dataframe tbody tr th {\n",
       "        vertical-align: top;\n",
       "    }\n",
       "\n",
       "    .dataframe thead th {\n",
       "        text-align: right;\n",
       "    }\n",
       "</style>\n",
       "<table border=\"1\" class=\"dataframe\">\n",
       "  <thead>\n",
       "    <tr style=\"text-align: right;\">\n",
       "      <th></th>\n",
       "      <th>driverRef</th>\n",
       "      <th>Total Points</th>\n",
       "    </tr>\n",
       "  </thead>\n",
       "  <tbody>\n",
       "    <tr>\n",
       "      <th>1950</th>\n",
       "      <td>farina</td>\n",
       "      <td>NaN</td>\n",
       "    </tr>\n",
       "    <tr>\n",
       "      <th>1951</th>\n",
       "      <td>fangio</td>\n",
       "      <td>NaN</td>\n",
       "    </tr>\n",
       "    <tr>\n",
       "      <th>1952</th>\n",
       "      <td>ascari</td>\n",
       "      <td>NaN</td>\n",
       "    </tr>\n",
       "    <tr>\n",
       "      <th>1953</th>\n",
       "      <td>ascari</td>\n",
       "      <td>NaN</td>\n",
       "    </tr>\n",
       "    <tr>\n",
       "      <th>1954</th>\n",
       "      <td>fangio</td>\n",
       "      <td>NaN</td>\n",
       "    </tr>\n",
       "    <tr>\n",
       "      <th>...</th>\n",
       "      <td>...</td>\n",
       "      <td>...</td>\n",
       "    </tr>\n",
       "    <tr>\n",
       "      <th>2015</th>\n",
       "      <td>hamilton</td>\n",
       "      <td>NaN</td>\n",
       "    </tr>\n",
       "    <tr>\n",
       "      <th>2016</th>\n",
       "      <td>rosberg</td>\n",
       "      <td>NaN</td>\n",
       "    </tr>\n",
       "    <tr>\n",
       "      <th>2017</th>\n",
       "      <td>hamilton</td>\n",
       "      <td>NaN</td>\n",
       "    </tr>\n",
       "    <tr>\n",
       "      <th>2018</th>\n",
       "      <td>hamilton</td>\n",
       "      <td>NaN</td>\n",
       "    </tr>\n",
       "    <tr>\n",
       "      <th>2019</th>\n",
       "      <td>hamilton</td>\n",
       "      <td>NaN</td>\n",
       "    </tr>\n",
       "  </tbody>\n",
       "</table>\n",
       "<p>70 rows × 2 columns</p>\n",
       "</div>"
      ],
      "text/plain": [
       "     driverRef Total Points\n",
       "1950    farina          NaN\n",
       "1951    fangio          NaN\n",
       "1952    ascari          NaN\n",
       "1953    ascari          NaN\n",
       "1954    fangio          NaN\n",
       "...        ...          ...\n",
       "2015  hamilton          NaN\n",
       "2016   rosberg          NaN\n",
       "2017  hamilton          NaN\n",
       "2018  hamilton          NaN\n",
       "2019  hamilton          NaN\n",
       "\n",
       "[70 rows x 2 columns]"
      ]
     },
     "execution_count": 177,
     "metadata": {},
     "output_type": "execute_result"
    }
   ],
   "source": [
    "for i in range(1950,2020):\n",
    "    dfstd=f1stdcube.query(ms[\"contributors.COUNT\"],levels=[ls[\"year\"],ls[\"raceId\"],ls[\"driverRef\"],ls[\"position\"]],condition=(ls[\"position\"]==\"1\") & (ls[\"year\"]==str(i)))\n",
    "    dfwc.loc[i]['driverRef']=dfstd.loc[i].loc[dfstd.index.get_level_values('raceId').unique().max()].index.get_level_values('driverRef').tolist()[0]\n",
    "#dfwc"
   ]
  },
  {
   "cell_type": "markdown",
   "metadata": {},
   "source": [
    "## Simulations\n",
    "Variation of points scoring rule in F1 history  \n",
    "[EN version](https://en.wikipedia.org/wiki/List_of_Formula_One_World_Championship_points_scoring_systems)  \n",
    "[FR version](https://fr.wikipedia.org/wiki/Classement_des_pilotes_de_Formule_1_par_nombre_de_points#%C3%89volution_de_l'attribution_des_points_au_cours_du_temps)"
   ]
  },
  {
   "cell_type": "markdown",
   "metadata": {},
   "source": [
    "### Preparation of a dataframe for the different scoring systems"
   ]
  },
  {
   "cell_type": "code",
   "execution_count": 178,
   "metadata": {},
   "outputs": [],
   "source": [
    "# index = race year, 1 column for each position, values are the number of points scored for the race position\n",
    "scoring_columns = np.arange(1,41)\n",
    "#scoring_index = np.arange(1950,2019)\n",
    "scoring_index = ('sc1950to1959fl sc1960 sc1961to1990 sc1991to2002 sc2003to2009 sc2010to2013 sc2014lr sc2015to2018 sc2019fl').split()"
   ]
  },
  {
   "cell_type": "code",
   "execution_count": 179,
   "metadata": {},
   "outputs": [],
   "source": [
    "dfscoring = pd.DataFrame(0,index=scoring_index,columns=scoring_columns)"
   ]
  },
  {
   "cell_type": "code",
   "execution_count": 180,
   "metadata": {},
   "outputs": [],
   "source": [
    "# before 1991, the calculation rule is not a simple aggregation given that only the Nth best results were retained\n",
    "# dfscoring.loc['sc1950to1959fl'][1,2,3,4,5] = [8,6,4,3,2] #fastest lap bonus +1 point\n",
    "# dfscoring.loc['sc1960'][1,2,3,4,5,6] = [8,6,4,3,2,1]\n",
    "# dfscoring.loc['sc1961to1990'][1,2,3,4,5,6] = [9,6,4,3,2,1]\n",
    "dfscoring.loc['sc1991to2002'][1,2,3,4,5,6] = [10,6,4,3,2,1]\n",
    "dfscoring.loc['sc2003to2009'][1,2,3,4,5,6,7,8] = [10,8,6,5,4,3,2,1]\n",
    "dfscoring.loc['sc2010to2013'][1,2,3,4,5,6,7,8,9,10] = [25,18,15,12,10,8,6,4,2,1]\n",
    "# dfscoring.loc['sc2014lr'][1,2,3,4,5,6,7,8,9,10] = [25,18,15,12,10,8,6,4,2,1] #last race bonus double points\n",
    "dfscoring.loc['sc2015to2018'] = dfscoring.loc['sc2010to2013']\n",
    "# dfscoring.loc['sc2019fl'] = dfscoring.loc['sc2010to2013'] #fastest lap bonus +1 point"
   ]
  },
  {
   "cell_type": "code",
   "execution_count": 181,
   "metadata": {},
   "outputs": [
    {
     "data": {
      "text/html": [
       "<div>\n",
       "<style scoped>\n",
       "    .dataframe tbody tr th:only-of-type {\n",
       "        vertical-align: middle;\n",
       "    }\n",
       "\n",
       "    .dataframe tbody tr th {\n",
       "        vertical-align: top;\n",
       "    }\n",
       "\n",
       "    .dataframe thead th {\n",
       "        text-align: right;\n",
       "    }\n",
       "</style>\n",
       "<table border=\"1\" class=\"dataframe\">\n",
       "  <thead>\n",
       "    <tr style=\"text-align: right;\">\n",
       "      <th></th>\n",
       "      <th>1</th>\n",
       "      <th>2</th>\n",
       "      <th>3</th>\n",
       "      <th>4</th>\n",
       "      <th>5</th>\n",
       "      <th>6</th>\n",
       "      <th>7</th>\n",
       "      <th>8</th>\n",
       "      <th>9</th>\n",
       "      <th>10</th>\n",
       "      <th>...</th>\n",
       "      <th>31</th>\n",
       "      <th>32</th>\n",
       "      <th>33</th>\n",
       "      <th>34</th>\n",
       "      <th>35</th>\n",
       "      <th>36</th>\n",
       "      <th>37</th>\n",
       "      <th>38</th>\n",
       "      <th>39</th>\n",
       "      <th>40</th>\n",
       "    </tr>\n",
       "  </thead>\n",
       "  <tbody>\n",
       "    <tr>\n",
       "      <th>sc1950to1959fl</th>\n",
       "      <td>0</td>\n",
       "      <td>0</td>\n",
       "      <td>0</td>\n",
       "      <td>0</td>\n",
       "      <td>0</td>\n",
       "      <td>0</td>\n",
       "      <td>0</td>\n",
       "      <td>0</td>\n",
       "      <td>0</td>\n",
       "      <td>0</td>\n",
       "      <td>...</td>\n",
       "      <td>0</td>\n",
       "      <td>0</td>\n",
       "      <td>0</td>\n",
       "      <td>0</td>\n",
       "      <td>0</td>\n",
       "      <td>0</td>\n",
       "      <td>0</td>\n",
       "      <td>0</td>\n",
       "      <td>0</td>\n",
       "      <td>0</td>\n",
       "    </tr>\n",
       "    <tr>\n",
       "      <th>sc1960</th>\n",
       "      <td>0</td>\n",
       "      <td>0</td>\n",
       "      <td>0</td>\n",
       "      <td>0</td>\n",
       "      <td>0</td>\n",
       "      <td>0</td>\n",
       "      <td>0</td>\n",
       "      <td>0</td>\n",
       "      <td>0</td>\n",
       "      <td>0</td>\n",
       "      <td>...</td>\n",
       "      <td>0</td>\n",
       "      <td>0</td>\n",
       "      <td>0</td>\n",
       "      <td>0</td>\n",
       "      <td>0</td>\n",
       "      <td>0</td>\n",
       "      <td>0</td>\n",
       "      <td>0</td>\n",
       "      <td>0</td>\n",
       "      <td>0</td>\n",
       "    </tr>\n",
       "    <tr>\n",
       "      <th>sc1961to1990</th>\n",
       "      <td>0</td>\n",
       "      <td>0</td>\n",
       "      <td>0</td>\n",
       "      <td>0</td>\n",
       "      <td>0</td>\n",
       "      <td>0</td>\n",
       "      <td>0</td>\n",
       "      <td>0</td>\n",
       "      <td>0</td>\n",
       "      <td>0</td>\n",
       "      <td>...</td>\n",
       "      <td>0</td>\n",
       "      <td>0</td>\n",
       "      <td>0</td>\n",
       "      <td>0</td>\n",
       "      <td>0</td>\n",
       "      <td>0</td>\n",
       "      <td>0</td>\n",
       "      <td>0</td>\n",
       "      <td>0</td>\n",
       "      <td>0</td>\n",
       "    </tr>\n",
       "    <tr>\n",
       "      <th>sc1991to2002</th>\n",
       "      <td>10</td>\n",
       "      <td>6</td>\n",
       "      <td>4</td>\n",
       "      <td>3</td>\n",
       "      <td>2</td>\n",
       "      <td>1</td>\n",
       "      <td>0</td>\n",
       "      <td>0</td>\n",
       "      <td>0</td>\n",
       "      <td>0</td>\n",
       "      <td>...</td>\n",
       "      <td>0</td>\n",
       "      <td>0</td>\n",
       "      <td>0</td>\n",
       "      <td>0</td>\n",
       "      <td>0</td>\n",
       "      <td>0</td>\n",
       "      <td>0</td>\n",
       "      <td>0</td>\n",
       "      <td>0</td>\n",
       "      <td>0</td>\n",
       "    </tr>\n",
       "    <tr>\n",
       "      <th>sc2003to2009</th>\n",
       "      <td>10</td>\n",
       "      <td>8</td>\n",
       "      <td>6</td>\n",
       "      <td>5</td>\n",
       "      <td>4</td>\n",
       "      <td>3</td>\n",
       "      <td>2</td>\n",
       "      <td>1</td>\n",
       "      <td>0</td>\n",
       "      <td>0</td>\n",
       "      <td>...</td>\n",
       "      <td>0</td>\n",
       "      <td>0</td>\n",
       "      <td>0</td>\n",
       "      <td>0</td>\n",
       "      <td>0</td>\n",
       "      <td>0</td>\n",
       "      <td>0</td>\n",
       "      <td>0</td>\n",
       "      <td>0</td>\n",
       "      <td>0</td>\n",
       "    </tr>\n",
       "    <tr>\n",
       "      <th>sc2010to2013</th>\n",
       "      <td>25</td>\n",
       "      <td>18</td>\n",
       "      <td>15</td>\n",
       "      <td>12</td>\n",
       "      <td>10</td>\n",
       "      <td>8</td>\n",
       "      <td>6</td>\n",
       "      <td>4</td>\n",
       "      <td>2</td>\n",
       "      <td>1</td>\n",
       "      <td>...</td>\n",
       "      <td>0</td>\n",
       "      <td>0</td>\n",
       "      <td>0</td>\n",
       "      <td>0</td>\n",
       "      <td>0</td>\n",
       "      <td>0</td>\n",
       "      <td>0</td>\n",
       "      <td>0</td>\n",
       "      <td>0</td>\n",
       "      <td>0</td>\n",
       "    </tr>\n",
       "    <tr>\n",
       "      <th>sc2014lr</th>\n",
       "      <td>0</td>\n",
       "      <td>0</td>\n",
       "      <td>0</td>\n",
       "      <td>0</td>\n",
       "      <td>0</td>\n",
       "      <td>0</td>\n",
       "      <td>0</td>\n",
       "      <td>0</td>\n",
       "      <td>0</td>\n",
       "      <td>0</td>\n",
       "      <td>...</td>\n",
       "      <td>0</td>\n",
       "      <td>0</td>\n",
       "      <td>0</td>\n",
       "      <td>0</td>\n",
       "      <td>0</td>\n",
       "      <td>0</td>\n",
       "      <td>0</td>\n",
       "      <td>0</td>\n",
       "      <td>0</td>\n",
       "      <td>0</td>\n",
       "    </tr>\n",
       "    <tr>\n",
       "      <th>sc2015to2018</th>\n",
       "      <td>25</td>\n",
       "      <td>18</td>\n",
       "      <td>15</td>\n",
       "      <td>12</td>\n",
       "      <td>10</td>\n",
       "      <td>8</td>\n",
       "      <td>6</td>\n",
       "      <td>4</td>\n",
       "      <td>2</td>\n",
       "      <td>1</td>\n",
       "      <td>...</td>\n",
       "      <td>0</td>\n",
       "      <td>0</td>\n",
       "      <td>0</td>\n",
       "      <td>0</td>\n",
       "      <td>0</td>\n",
       "      <td>0</td>\n",
       "      <td>0</td>\n",
       "      <td>0</td>\n",
       "      <td>0</td>\n",
       "      <td>0</td>\n",
       "    </tr>\n",
       "    <tr>\n",
       "      <th>sc2019fl</th>\n",
       "      <td>0</td>\n",
       "      <td>0</td>\n",
       "      <td>0</td>\n",
       "      <td>0</td>\n",
       "      <td>0</td>\n",
       "      <td>0</td>\n",
       "      <td>0</td>\n",
       "      <td>0</td>\n",
       "      <td>0</td>\n",
       "      <td>0</td>\n",
       "      <td>...</td>\n",
       "      <td>0</td>\n",
       "      <td>0</td>\n",
       "      <td>0</td>\n",
       "      <td>0</td>\n",
       "      <td>0</td>\n",
       "      <td>0</td>\n",
       "      <td>0</td>\n",
       "      <td>0</td>\n",
       "      <td>0</td>\n",
       "      <td>0</td>\n",
       "    </tr>\n",
       "  </tbody>\n",
       "</table>\n",
       "<p>9 rows × 40 columns</p>\n",
       "</div>"
      ],
      "text/plain": [
       "                1   2   3   4   5   6   7   8   9   10  ...  31  32  33  34  \\\n",
       "sc1950to1959fl   0   0   0   0   0   0   0   0   0   0  ...   0   0   0   0   \n",
       "sc1960           0   0   0   0   0   0   0   0   0   0  ...   0   0   0   0   \n",
       "sc1961to1990     0   0   0   0   0   0   0   0   0   0  ...   0   0   0   0   \n",
       "sc1991to2002    10   6   4   3   2   1   0   0   0   0  ...   0   0   0   0   \n",
       "sc2003to2009    10   8   6   5   4   3   2   1   0   0  ...   0   0   0   0   \n",
       "sc2010to2013    25  18  15  12  10   8   6   4   2   1  ...   0   0   0   0   \n",
       "sc2014lr         0   0   0   0   0   0   0   0   0   0  ...   0   0   0   0   \n",
       "sc2015to2018    25  18  15  12  10   8   6   4   2   1  ...   0   0   0   0   \n",
       "sc2019fl         0   0   0   0   0   0   0   0   0   0  ...   0   0   0   0   \n",
       "\n",
       "                35  36  37  38  39  40  \n",
       "sc1950to1959fl   0   0   0   0   0   0  \n",
       "sc1960           0   0   0   0   0   0  \n",
       "sc1961to1990     0   0   0   0   0   0  \n",
       "sc1991to2002     0   0   0   0   0   0  \n",
       "sc2003to2009     0   0   0   0   0   0  \n",
       "sc2010to2013     0   0   0   0   0   0  \n",
       "sc2014lr         0   0   0   0   0   0  \n",
       "sc2015to2018     0   0   0   0   0   0  \n",
       "sc2019fl         0   0   0   0   0   0  \n",
       "\n",
       "[9 rows x 40 columns]"
      ]
     },
     "execution_count": 181,
     "metadata": {},
     "output_type": "execute_result"
    }
   ],
   "source": [
    "#dfscoring.loc['sc2015to2018'][1]\n",
    "dfscoring"
   ]
  },
  {
   "cell_type": "markdown",
   "metadata": {},
   "source": [
    "### simulation on points"
   ]
  },
  {
   "cell_type": "code",
   "execution_count": 182,
   "metadata": {},
   "outputs": [],
   "source": [
    "pointssystem_sim = f1cube.setup_simulation('pointssystem_sim', per=[l[\"positionText\"]], replace=[m[\"points.SUM\"]], base_scenario_name = 'Base')"
   ]
  },
  {
   "cell_type": "code",
   "execution_count": null,
   "metadata": {},
   "outputs": [],
   "source": [
    "#del f1cube.simulations['pointssystem_sim']\n",
    "#del f1cube.simulations['pointssystem_sim'].scenarios[\"System 2015 to 2018\"]\n",
    "#f1cube.simulations['pointssystem_sim']"
   ]
  },
  {
   "cell_type": "code",
   "execution_count": 183,
   "metadata": {},
   "outputs": [],
   "source": [
    "sc2015to2018_scenario = pointssystem_sim.scenarios['System 2015 to 2018']\n",
    "sc1991to2002_scenario = pointssystem_sim.scenarios['System 1991 to 2002']\n",
    "sc2003to2009_scenario = pointssystem_sim.scenarios['System 2003 to 2009']"
   ]
  },
  {
   "cell_type": "code",
   "execution_count": 184,
   "metadata": {},
   "outputs": [],
   "source": [
    "for i in range(1,11):\n",
    "    x=float(dfscoring.loc[\"sc2015to2018\"][i])\n",
    "    sc2015to2018_scenario += (str(i), x, av.simulation.Priority.CRITICAL)\n",
    "    \n",
    "    x=float(dfscoring.loc[\"sc1991to2002\"][i])\n",
    "    sc1991to2002_scenario += (str(i), x, av.simulation.Priority.CRITICAL)\n",
    "    \n",
    "    x=float(dfscoring.loc[\"sc2003to2009\"][i])\n",
    "    sc2003to2009_scenario += (str(i), x, av.simulation.Priority.CRITICAL)"
   ]
  },
  {
   "cell_type": "code",
   "execution_count": null,
   "metadata": {},
   "outputs": [],
   "source": [
    "#sc2015to2018_scenario.head(10)\n",
    "sc1991to2002_scenario.head(10)\n",
    "#sc2003to2009_scenario.head(10)"
   ]
  },
  {
   "cell_type": "code",
   "execution_count": 185,
   "metadata": {},
   "outputs": [
    {
     "data": {
      "text/html": [
       "<div>\n",
       "<style scoped>\n",
       "    .dataframe tbody tr th:only-of-type {\n",
       "        vertical-align: middle;\n",
       "    }\n",
       "\n",
       "    .dataframe tbody tr th {\n",
       "        vertical-align: top;\n",
       "    }\n",
       "\n",
       "    .dataframe thead th {\n",
       "        text-align: right;\n",
       "    }\n",
       "</style>\n",
       "<table border=\"1\" class=\"dataframe\">\n",
       "  <thead>\n",
       "    <tr style=\"text-align: right;\">\n",
       "      <th></th>\n",
       "      <th></th>\n",
       "      <th></th>\n",
       "      <th>Total Points</th>\n",
       "    </tr>\n",
       "    <tr>\n",
       "      <th>year</th>\n",
       "      <th>pointssystem_sim</th>\n",
       "      <th>driverRef</th>\n",
       "      <th></th>\n",
       "    </tr>\n",
       "  </thead>\n",
       "  <tbody>\n",
       "    <tr>\n",
       "      <th rowspan=\"5\" valign=\"top\">1950</th>\n",
       "      <th rowspan=\"5\" valign=\"top\">Base</th>\n",
       "      <th>ader</th>\n",
       "      <td>0.0</td>\n",
       "    </tr>\n",
       "    <tr>\n",
       "      <th>agabashian</th>\n",
       "      <td>0.0</td>\n",
       "    </tr>\n",
       "    <tr>\n",
       "      <th>ascari</th>\n",
       "      <td>11.0</td>\n",
       "    </tr>\n",
       "    <tr>\n",
       "      <th>banks</th>\n",
       "      <td>0.0</td>\n",
       "    </tr>\n",
       "    <tr>\n",
       "      <th>bettenhausen</th>\n",
       "      <td>1.0</td>\n",
       "    </tr>\n",
       "    <tr>\n",
       "      <th>...</th>\n",
       "      <th>...</th>\n",
       "      <th>...</th>\n",
       "      <td>...</td>\n",
       "    </tr>\n",
       "    <tr>\n",
       "      <th rowspan=\"5\" valign=\"top\">2019</th>\n",
       "      <th rowspan=\"5\" valign=\"top\">System 2015 to 2018</th>\n",
       "      <th>ricciardo</th>\n",
       "      <td>54.0</td>\n",
       "    </tr>\n",
       "    <tr>\n",
       "      <th>russell</th>\n",
       "      <td>0.0</td>\n",
       "    </tr>\n",
       "    <tr>\n",
       "      <th>sainz</th>\n",
       "      <td>96.0</td>\n",
       "    </tr>\n",
       "    <tr>\n",
       "      <th>stroll</th>\n",
       "      <td>21.0</td>\n",
       "    </tr>\n",
       "    <tr>\n",
       "      <th>vettel</th>\n",
       "      <td>238.0</td>\n",
       "    </tr>\n",
       "  </tbody>\n",
       "</table>\n",
       "<p>12384 rows × 1 columns</p>\n",
       "</div>"
      ],
      "text/plain": [
       "                                       Total Points\n",
       "year pointssystem_sim    driverRef                 \n",
       "1950 Base                ader                   0.0\n",
       "                         agabashian             0.0\n",
       "                         ascari                11.0\n",
       "                         banks                  0.0\n",
       "                         bettenhausen           1.0\n",
       "...                                             ...\n",
       "2019 System 2015 to 2018 ricciardo             54.0\n",
       "                         russell                0.0\n",
       "                         sainz                 96.0\n",
       "                         stroll                21.0\n",
       "                         vettel               238.0\n",
       "\n",
       "[12384 rows x 1 columns]"
      ]
     },
     "execution_count": 185,
     "metadata": {},
     "output_type": "execute_result"
    }
   ],
   "source": [
    "# query4bis\n",
    "# Construction of the champonship winners dataframe base on scenario\n",
    "dfq4b = f1cube.query(m['Total Points'],levels=[l[\"year\"],l[\"pointssystem_sim\"],l[\"driverRef\"]])\n",
    "dfq4b"
   ]
  },
  {
   "cell_type": "code",
   "execution_count": 186,
   "metadata": {},
   "outputs": [],
   "source": [
    "# preparing the world champions dataframe comparison between scenarios\n",
    "#dfwc_comparison = pd.DataFrame(index=range(1950,2020),columns=['Base Champion','Base Total Points','sc2015to2018 Champion','sc2015to2018 Total Points','sc2015to2018'])\n",
    "dfwc_comparison = pd.DataFrame(index=range(1950,2020),columns=['Base Champion','sc2015to2018 Champion','sc2015to2018','sc1991to2002 Champion','sc1991to2002','sc2003to2009 Champion','sc2003to2009'])"
   ]
  },
  {
   "cell_type": "code",
   "execution_count": 187,
   "metadata": {},
   "outputs": [
    {
     "data": {
      "text/html": [
       "<div>\n",
       "<style scoped>\n",
       "    .dataframe tbody tr th:only-of-type {\n",
       "        vertical-align: middle;\n",
       "    }\n",
       "\n",
       "    .dataframe tbody tr th {\n",
       "        vertical-align: top;\n",
       "    }\n",
       "\n",
       "    .dataframe thead th {\n",
       "        text-align: right;\n",
       "    }\n",
       "</style>\n",
       "<table border=\"1\" class=\"dataframe\">\n",
       "  <thead>\n",
       "    <tr style=\"text-align: right;\">\n",
       "      <th></th>\n",
       "      <th>Total Points</th>\n",
       "    </tr>\n",
       "    <tr>\n",
       "      <th>driverRef</th>\n",
       "      <th></th>\n",
       "    </tr>\n",
       "  </thead>\n",
       "  <tbody>\n",
       "    <tr>\n",
       "      <th>prost</th>\n",
       "      <td>105.0</td>\n",
       "    </tr>\n",
       "    <tr>\n",
       "      <th>senna</th>\n",
       "      <td>94.0</td>\n",
       "    </tr>\n",
       "    <tr>\n",
       "      <th>berger</th>\n",
       "      <td>41.0</td>\n",
       "    </tr>\n",
       "    <tr>\n",
       "      <th>boutsen</th>\n",
       "      <td>27.0</td>\n",
       "    </tr>\n",
       "    <tr>\n",
       "      <th>alboreto</th>\n",
       "      <td>24.0</td>\n",
       "    </tr>\n",
       "    <tr>\n",
       "      <th>piquet</th>\n",
       "      <td>22.0</td>\n",
       "    </tr>\n",
       "    <tr>\n",
       "      <th>capelli</th>\n",
       "      <td>17.0</td>\n",
       "    </tr>\n",
       "    <tr>\n",
       "      <th>warwick</th>\n",
       "      <td>17.0</td>\n",
       "    </tr>\n",
       "    <tr>\n",
       "      <th>mansell</th>\n",
       "      <td>12.0</td>\n",
       "    </tr>\n",
       "    <tr>\n",
       "      <th>nannini</th>\n",
       "      <td>12.0</td>\n",
       "    </tr>\n",
       "    <tr>\n",
       "      <th>patrese</th>\n",
       "      <td>8.0</td>\n",
       "    </tr>\n",
       "    <tr>\n",
       "      <th>cheever</th>\n",
       "      <td>6.0</td>\n",
       "    </tr>\n",
       "    <tr>\n",
       "      <th>gugelmin</th>\n",
       "      <td>5.0</td>\n",
       "    </tr>\n",
       "    <tr>\n",
       "      <th>palmer</th>\n",
       "      <td>5.0</td>\n",
       "    </tr>\n",
       "    <tr>\n",
       "      <th>cesaris</th>\n",
       "      <td>3.0</td>\n",
       "    </tr>\n",
       "    <tr>\n",
       "      <th>martini</th>\n",
       "      <td>1.0</td>\n",
       "    </tr>\n",
       "    <tr>\n",
       "      <th>satoru_nakajima</th>\n",
       "      <td>1.0</td>\n",
       "    </tr>\n",
       "    <tr>\n",
       "      <th>ghinzani</th>\n",
       "      <td>0.0</td>\n",
       "    </tr>\n",
       "    <tr>\n",
       "      <th>raphanel</th>\n",
       "      <td>0.0</td>\n",
       "    </tr>\n",
       "    <tr>\n",
       "      <th>tarquini</th>\n",
       "      <td>0.0</td>\n",
       "    </tr>\n",
       "    <tr>\n",
       "      <th>suzuki</th>\n",
       "      <td>0.0</td>\n",
       "    </tr>\n",
       "    <tr>\n",
       "      <th>streiff</th>\n",
       "      <td>0.0</td>\n",
       "    </tr>\n",
       "    <tr>\n",
       "      <th>arnoux</th>\n",
       "      <td>0.0</td>\n",
       "    </tr>\n",
       "    <tr>\n",
       "      <th>schneider</th>\n",
       "      <td>0.0</td>\n",
       "    </tr>\n",
       "    <tr>\n",
       "      <th>schlesser</th>\n",
       "      <td>0.0</td>\n",
       "    </tr>\n",
       "    <tr>\n",
       "      <th>sala</th>\n",
       "      <td>0.0</td>\n",
       "    </tr>\n",
       "    <tr>\n",
       "      <th>bailey</th>\n",
       "      <td>0.0</td>\n",
       "    </tr>\n",
       "    <tr>\n",
       "      <th>johansson</th>\n",
       "      <td>0.0</td>\n",
       "    </tr>\n",
       "    <tr>\n",
       "      <th>brundle</th>\n",
       "      <td>0.0</td>\n",
       "    </tr>\n",
       "    <tr>\n",
       "      <th>caffi</th>\n",
       "      <td>0.0</td>\n",
       "    </tr>\n",
       "    <tr>\n",
       "      <th>dalmas</th>\n",
       "      <td>0.0</td>\n",
       "    </tr>\n",
       "    <tr>\n",
       "      <th>modena</th>\n",
       "      <td>0.0</td>\n",
       "    </tr>\n",
       "    <tr>\n",
       "      <th>alliot</th>\n",
       "      <td>0.0</td>\n",
       "    </tr>\n",
       "    <tr>\n",
       "      <th>larrauri</th>\n",
       "      <td>0.0</td>\n",
       "    </tr>\n",
       "    <tr>\n",
       "      <th>larini</th>\n",
       "      <td>0.0</td>\n",
       "    </tr>\n",
       "    <tr>\n",
       "      <th>campos</th>\n",
       "      <td>0.0</td>\n",
       "    </tr>\n",
       "  </tbody>\n",
       "</table>\n",
       "</div>"
      ],
      "text/plain": [
       "                 Total Points\n",
       "driverRef                    \n",
       "prost                   105.0\n",
       "senna                    94.0\n",
       "berger                   41.0\n",
       "boutsen                  27.0\n",
       "alboreto                 24.0\n",
       "piquet                   22.0\n",
       "capelli                  17.0\n",
       "warwick                  17.0\n",
       "mansell                  12.0\n",
       "nannini                  12.0\n",
       "patrese                   8.0\n",
       "cheever                   6.0\n",
       "gugelmin                  5.0\n",
       "palmer                    5.0\n",
       "cesaris                   3.0\n",
       "martini                   1.0\n",
       "satoru_nakajima           1.0\n",
       "ghinzani                  0.0\n",
       "raphanel                  0.0\n",
       "tarquini                  0.0\n",
       "suzuki                    0.0\n",
       "streiff                   0.0\n",
       "arnoux                    0.0\n",
       "schneider                 0.0\n",
       "schlesser                 0.0\n",
       "sala                      0.0\n",
       "bailey                    0.0\n",
       "johansson                 0.0\n",
       "brundle                   0.0\n",
       "caffi                     0.0\n",
       "dalmas                    0.0\n",
       "modena                    0.0\n",
       "alliot                    0.0\n",
       "larrauri                  0.0\n",
       "larini                    0.0\n",
       "campos                    0.0"
      ]
     },
     "execution_count": 187,
     "metadata": {},
     "output_type": "execute_result"
    }
   ],
   "source": [
    "#### \"BASE\" CALCULATIONS ARE INCORRECT for championships before 1991 because not all results were considered...\n",
    "# Example: in 1988, only the 11 best results were considered, meaning that Senna became WC, even if Prost had scored more points...\n",
    "dfq4b.loc[1988].loc['Base'].sort_values(by=['Total Points'], ascending=False)"
   ]
  },
  {
   "cell_type": "code",
   "execution_count": 190,
   "metadata": {},
   "outputs": [
    {
     "data": {
      "text/html": [
       "<div>\n",
       "<style scoped>\n",
       "    .dataframe tbody tr th:only-of-type {\n",
       "        vertical-align: middle;\n",
       "    }\n",
       "\n",
       "    .dataframe tbody tr th {\n",
       "        vertical-align: top;\n",
       "    }\n",
       "\n",
       "    .dataframe thead th {\n",
       "        text-align: right;\n",
       "    }\n",
       "</style>\n",
       "<table border=\"1\" class=\"dataframe\">\n",
       "  <thead>\n",
       "    <tr style=\"text-align: right;\">\n",
       "      <th></th>\n",
       "      <th>Base Champion</th>\n",
       "      <th>sc2015to2018 Champion</th>\n",
       "      <th>sc2015to2018</th>\n",
       "      <th>sc1991to2002 Champion</th>\n",
       "      <th>sc1991to2002</th>\n",
       "      <th>sc2003to2009 Champion</th>\n",
       "      <th>sc2003to2009</th>\n",
       "    </tr>\n",
       "  </thead>\n",
       "  <tbody>\n",
       "    <tr>\n",
       "      <th>1950</th>\n",
       "      <td>farina</td>\n",
       "      <td>farina</td>\n",
       "      <td>True</td>\n",
       "      <td>farina</td>\n",
       "      <td>True</td>\n",
       "      <td>fagioli</td>\n",
       "      <td>False</td>\n",
       "    </tr>\n",
       "    <tr>\n",
       "      <th>1951</th>\n",
       "      <td>fangio</td>\n",
       "      <td>fangio</td>\n",
       "      <td>True</td>\n",
       "      <td>fangio</td>\n",
       "      <td>True</td>\n",
       "      <td>fangio</td>\n",
       "      <td>True</td>\n",
       "    </tr>\n",
       "    <tr>\n",
       "      <th>1952</th>\n",
       "      <td>ascari</td>\n",
       "      <td>ascari</td>\n",
       "      <td>True</td>\n",
       "      <td>ascari</td>\n",
       "      <td>True</td>\n",
       "      <td>ascari</td>\n",
       "      <td>True</td>\n",
       "    </tr>\n",
       "    <tr>\n",
       "      <th>1953</th>\n",
       "      <td>ascari</td>\n",
       "      <td>ascari</td>\n",
       "      <td>True</td>\n",
       "      <td>ascari</td>\n",
       "      <td>True</td>\n",
       "      <td>ascari</td>\n",
       "      <td>True</td>\n",
       "    </tr>\n",
       "    <tr>\n",
       "      <th>1954</th>\n",
       "      <td>fangio</td>\n",
       "      <td>fangio</td>\n",
       "      <td>True</td>\n",
       "      <td>fangio</td>\n",
       "      <td>True</td>\n",
       "      <td>fangio</td>\n",
       "      <td>True</td>\n",
       "    </tr>\n",
       "    <tr>\n",
       "      <th>...</th>\n",
       "      <td>...</td>\n",
       "      <td>...</td>\n",
       "      <td>...</td>\n",
       "      <td>...</td>\n",
       "      <td>...</td>\n",
       "      <td>...</td>\n",
       "      <td>...</td>\n",
       "    </tr>\n",
       "    <tr>\n",
       "      <th>2015</th>\n",
       "      <td>hamilton</td>\n",
       "      <td>hamilton</td>\n",
       "      <td>True</td>\n",
       "      <td>hamilton</td>\n",
       "      <td>True</td>\n",
       "      <td>hamilton</td>\n",
       "      <td>True</td>\n",
       "    </tr>\n",
       "    <tr>\n",
       "      <th>2016</th>\n",
       "      <td>rosberg</td>\n",
       "      <td>rosberg</td>\n",
       "      <td>True</td>\n",
       "      <td>rosberg</td>\n",
       "      <td>True</td>\n",
       "      <td>rosberg</td>\n",
       "      <td>True</td>\n",
       "    </tr>\n",
       "    <tr>\n",
       "      <th>2017</th>\n",
       "      <td>hamilton</td>\n",
       "      <td>hamilton</td>\n",
       "      <td>True</td>\n",
       "      <td>hamilton</td>\n",
       "      <td>True</td>\n",
       "      <td>hamilton</td>\n",
       "      <td>True</td>\n",
       "    </tr>\n",
       "    <tr>\n",
       "      <th>2018</th>\n",
       "      <td>hamilton</td>\n",
       "      <td>hamilton</td>\n",
       "      <td>True</td>\n",
       "      <td>hamilton</td>\n",
       "      <td>True</td>\n",
       "      <td>hamilton</td>\n",
       "      <td>True</td>\n",
       "    </tr>\n",
       "    <tr>\n",
       "      <th>2019</th>\n",
       "      <td>hamilton</td>\n",
       "      <td>hamilton</td>\n",
       "      <td>True</td>\n",
       "      <td>hamilton</td>\n",
       "      <td>True</td>\n",
       "      <td>hamilton</td>\n",
       "      <td>True</td>\n",
       "    </tr>\n",
       "  </tbody>\n",
       "</table>\n",
       "<p>70 rows × 7 columns</p>\n",
       "</div>"
      ],
      "text/plain": [
       "     Base Champion sc2015to2018 Champion sc2015to2018 sc1991to2002 Champion  \\\n",
       "1950        farina                farina         True                farina   \n",
       "1951        fangio                fangio         True                fangio   \n",
       "1952        ascari                ascari         True                ascari   \n",
       "1953        ascari                ascari         True                ascari   \n",
       "1954        fangio                fangio         True                fangio   \n",
       "...            ...                   ...          ...                   ...   \n",
       "2015      hamilton              hamilton         True              hamilton   \n",
       "2016       rosberg               rosberg         True               rosberg   \n",
       "2017      hamilton              hamilton         True              hamilton   \n",
       "2018      hamilton              hamilton         True              hamilton   \n",
       "2019      hamilton              hamilton         True              hamilton   \n",
       "\n",
       "     sc1991to2002 sc2003to2009 Champion sc2003to2009  \n",
       "1950         True               fagioli        False  \n",
       "1951         True                fangio         True  \n",
       "1952         True                ascari         True  \n",
       "1953         True                ascari         True  \n",
       "1954         True                fangio         True  \n",
       "...           ...                   ...          ...  \n",
       "2015         True              hamilton         True  \n",
       "2016         True               rosberg         True  \n",
       "2017         True              hamilton         True  \n",
       "2018         True              hamilton         True  \n",
       "2019         True              hamilton         True  \n",
       "\n",
       "[70 rows x 7 columns]"
      ]
     },
     "execution_count": 190,
     "metadata": {},
     "output_type": "execute_result"
    }
   ],
   "source": [
    "for i in range(1950,2020):\n",
    "    #xbase = dfq4b.loc[i].loc['Base'].sort_values(by=['Total Points'], ascending=False).iloc[0].head(1)\n",
    "    dfwc_drv = dfwc.loc[i]['driverRef']\n",
    "    xsim1 = dfq4b.loc[i].loc['System 2015 to 2018'].sort_values(by=['Total Points'], ascending=False).iloc[0].head(1)\n",
    "    xsim2 = dfq4b.loc[i].loc['System 1991 to 2002'].sort_values(by=['Total Points'], ascending=False).iloc[0].head(1)\n",
    "    xsim3 = dfq4b.loc[i].loc['System 2003 to 2009'].sort_values(by=['Total Points'], ascending=False).iloc[0].head(1)\n",
    "    #dfwc_comparison.loc[i]=[xbase.name,xsim1.name,xbase.name == xsim1.name,xsim2.name,xbase.name == xsim2.name,xsim3.name,xbase.name == xsim3.name]\n",
    "    dfwc_comparison.loc[i]=[dfwc_drv,xsim1.name,dfwc_drv == xsim1.name,xsim2.name,dfwc_drv == xsim2.name,xsim3.name,dfwc_drv == xsim3.name]\n",
    "#dfwc_comparison[dfwc_comparison['Base Champion']==\"prost\"]\n",
    "dfwc_comparison"
   ]
  },
  {
   "cell_type": "code",
   "execution_count": 205,
   "metadata": {},
   "outputs": [
    {
     "data": {
      "text/html": [
       "<div>\n",
       "<style scoped>\n",
       "    .dataframe tbody tr th:only-of-type {\n",
       "        vertical-align: middle;\n",
       "    }\n",
       "\n",
       "    .dataframe tbody tr th {\n",
       "        vertical-align: top;\n",
       "    }\n",
       "\n",
       "    .dataframe thead th {\n",
       "        text-align: right;\n",
       "    }\n",
       "</style>\n",
       "<table border=\"1\" class=\"dataframe\">\n",
       "  <thead>\n",
       "    <tr style=\"text-align: right;\">\n",
       "      <th></th>\n",
       "      <th>Base Champion</th>\n",
       "      <th>sc2015to2018 Champion</th>\n",
       "    </tr>\n",
       "  </thead>\n",
       "  <tbody>\n",
       "    <tr>\n",
       "      <th>1964</th>\n",
       "      <td>surtees</td>\n",
       "      <td>hill</td>\n",
       "    </tr>\n",
       "    <tr>\n",
       "      <th>1965</th>\n",
       "      <td>clark</td>\n",
       "      <td>hill</td>\n",
       "    </tr>\n",
       "    <tr>\n",
       "      <th>1976</th>\n",
       "      <td>hunt</td>\n",
       "      <td>lauda</td>\n",
       "    </tr>\n",
       "    <tr>\n",
       "      <th>1984</th>\n",
       "      <td>lauda</td>\n",
       "      <td>prost</td>\n",
       "    </tr>\n",
       "    <tr>\n",
       "      <th>1988</th>\n",
       "      <td>senna</td>\n",
       "      <td>prost</td>\n",
       "    </tr>\n",
       "    <tr>\n",
       "      <th>1994</th>\n",
       "      <td>michael_schumacher</td>\n",
       "      <td>damon_hill</td>\n",
       "    </tr>\n",
       "    <tr>\n",
       "      <th>1997</th>\n",
       "      <td>villeneuve</td>\n",
       "      <td>michael_schumacher</td>\n",
       "    </tr>\n",
       "    <tr>\n",
       "      <th>1999</th>\n",
       "      <td>hakkinen</td>\n",
       "      <td>irvine</td>\n",
       "    </tr>\n",
       "  </tbody>\n",
       "</table>\n",
       "</div>"
      ],
      "text/plain": [
       "           Base Champion sc2015to2018 Champion\n",
       "1964             surtees                  hill\n",
       "1965               clark                  hill\n",
       "1976                hunt                 lauda\n",
       "1984               lauda                 prost\n",
       "1988               senna                 prost\n",
       "1994  michael_schumacher            damon_hill\n",
       "1997          villeneuve    michael_schumacher\n",
       "1999            hakkinen                irvine"
      ]
     },
     "execution_count": 205,
     "metadata": {},
     "output_type": "execute_result"
    }
   ],
   "source": [
    "# list of different WC using sc2015to2018 vs. Base\n",
    "# dfwc_comparison[dfwc_comparison['sc2015to2018']==False]\n",
    "dfwc_comparison.loc[range(1950,2020)][['Base Champion','sc2015to2018 Champion']][dfwc_comparison['sc2015to2018']==False]"
   ]
  },
  {
   "cell_type": "code",
   "execution_count": 203,
   "metadata": {},
   "outputs": [
    {
     "data": {
      "text/html": [
       "<div>\n",
       "<style scoped>\n",
       "    .dataframe tbody tr th:only-of-type {\n",
       "        vertical-align: middle;\n",
       "    }\n",
       "\n",
       "    .dataframe tbody tr th {\n",
       "        vertical-align: top;\n",
       "    }\n",
       "\n",
       "    .dataframe thead th {\n",
       "        text-align: right;\n",
       "    }\n",
       "</style>\n",
       "<table border=\"1\" class=\"dataframe\">\n",
       "  <thead>\n",
       "    <tr style=\"text-align: right;\">\n",
       "      <th></th>\n",
       "      <th>Base Champion</th>\n",
       "      <th>sc1991to2002 Champion</th>\n",
       "    </tr>\n",
       "  </thead>\n",
       "  <tbody>\n",
       "    <tr>\n",
       "      <th>1964</th>\n",
       "      <td>surtees</td>\n",
       "      <td>hill</td>\n",
       "    </tr>\n",
       "    <tr>\n",
       "      <th>1984</th>\n",
       "      <td>lauda</td>\n",
       "      <td>prost</td>\n",
       "    </tr>\n",
       "    <tr>\n",
       "      <th>1988</th>\n",
       "      <td>senna</td>\n",
       "      <td>prost</td>\n",
       "    </tr>\n",
       "    <tr>\n",
       "      <th>2008</th>\n",
       "      <td>hamilton</td>\n",
       "      <td>massa</td>\n",
       "    </tr>\n",
       "  </tbody>\n",
       "</table>\n",
       "</div>"
      ],
      "text/plain": [
       "     Base Champion sc1991to2002 Champion\n",
       "1964       surtees                  hill\n",
       "1984         lauda                 prost\n",
       "1988         senna                 prost\n",
       "2008      hamilton                 massa"
      ]
     },
     "execution_count": 203,
     "metadata": {},
     "output_type": "execute_result"
    }
   ],
   "source": [
    "# list of different WC using sc1991to2002 vs. Base\n",
    "dfwc_comparison.loc[range(1950,2020)][['Base Champion','sc1991to2002 Champion']][dfwc_comparison['sc1991to2002']==False]"
   ]
  },
  {
   "cell_type": "code",
   "execution_count": 204,
   "metadata": {},
   "outputs": [
    {
     "data": {
      "text/html": [
       "<div>\n",
       "<style scoped>\n",
       "    .dataframe tbody tr th:only-of-type {\n",
       "        vertical-align: middle;\n",
       "    }\n",
       "\n",
       "    .dataframe tbody tr th {\n",
       "        vertical-align: top;\n",
       "    }\n",
       "\n",
       "    .dataframe thead th {\n",
       "        text-align: right;\n",
       "    }\n",
       "</style>\n",
       "<table border=\"1\" class=\"dataframe\">\n",
       "  <thead>\n",
       "    <tr style=\"text-align: right;\">\n",
       "      <th></th>\n",
       "      <th>Base Champion</th>\n",
       "      <th>sc2003to2009 Champion</th>\n",
       "    </tr>\n",
       "  </thead>\n",
       "  <tbody>\n",
       "    <tr>\n",
       "      <th>1950</th>\n",
       "      <td>farina</td>\n",
       "      <td>fagioli</td>\n",
       "    </tr>\n",
       "    <tr>\n",
       "      <th>1964</th>\n",
       "      <td>surtees</td>\n",
       "      <td>hill</td>\n",
       "    </tr>\n",
       "    <tr>\n",
       "      <th>1965</th>\n",
       "      <td>clark</td>\n",
       "      <td>hill</td>\n",
       "    </tr>\n",
       "    <tr>\n",
       "      <th>1970</th>\n",
       "      <td>rindt</td>\n",
       "      <td>ickx</td>\n",
       "    </tr>\n",
       "    <tr>\n",
       "      <th>1976</th>\n",
       "      <td>hunt</td>\n",
       "      <td>lauda</td>\n",
       "    </tr>\n",
       "    <tr>\n",
       "      <th>1984</th>\n",
       "      <td>lauda</td>\n",
       "      <td>prost</td>\n",
       "    </tr>\n",
       "    <tr>\n",
       "      <th>1988</th>\n",
       "      <td>senna</td>\n",
       "      <td>prost</td>\n",
       "    </tr>\n",
       "    <tr>\n",
       "      <th>1994</th>\n",
       "      <td>michael_schumacher</td>\n",
       "      <td>damon_hill</td>\n",
       "    </tr>\n",
       "    <tr>\n",
       "      <th>1997</th>\n",
       "      <td>villeneuve</td>\n",
       "      <td>michael_schumacher</td>\n",
       "    </tr>\n",
       "    <tr>\n",
       "      <th>1999</th>\n",
       "      <td>hakkinen</td>\n",
       "      <td>irvine</td>\n",
       "    </tr>\n",
       "  </tbody>\n",
       "</table>\n",
       "</div>"
      ],
      "text/plain": [
       "           Base Champion sc2003to2009 Champion\n",
       "1950              farina               fagioli\n",
       "1964             surtees                  hill\n",
       "1965               clark                  hill\n",
       "1970               rindt                  ickx\n",
       "1976                hunt                 lauda\n",
       "1984               lauda                 prost\n",
       "1988               senna                 prost\n",
       "1994  michael_schumacher            damon_hill\n",
       "1997          villeneuve    michael_schumacher\n",
       "1999            hakkinen                irvine"
      ]
     },
     "execution_count": 204,
     "metadata": {},
     "output_type": "execute_result"
    }
   ],
   "source": [
    "# list of different WC using sc2003to2009 vs. Base\n",
    "dfwc_comparison.loc[range(1950,2020)][['Base Champion','sc2003to2009 Champion']][dfwc_comparison['sc2003to2009']==False]"
   ]
  },
  {
   "cell_type": "code",
   "execution_count": null,
   "metadata": {
    "activeviam": {
     "state": {
      "name": "Base vs. System 1991 to 2002 scenario - Brazil 2008",
      "type": "container",
      "value": {
       "body": {
        "configuration": {
         "tabular": {
          "addButtonFilter": "numeric",
          "columnOrder": {
           "args": {
            "orderedColumns": [
             "__lineNumber__",
             "c-treeCells-member",
             "([Measure Simulations].[pointssystem_sim].[pointssystem_sim].[Base],[Measures].[Total Points])",
             "([Measure Simulations].[pointssystem_sim].[pointssystem_sim].[System 2015 to 2018],[Measures].[Total Points])"
            ]
           },
           "key": "explicit"
          },
          "columns": [
           {
            "key": "([Measure Simulations].[pointssystem_sim].[pointssystem_sim].[System 2015 to 2018],[Measures].[Total Points])",
            "width": 159
           },
           {
            "key": "c-treeCells-member",
            "width": 319
           },
           {
            "key": "([Measure Simulations].[pointssystem_sim].[pointssystem_sim].[System 2003 to 2009],[Measures].[Total Points])",
            "width": 180
           },
           {
            "key": "([Measure Simulations].[pointssystem_sim].[pointssystem_sim].[System 1991 to 2002],[Measures].[Total Points])",
            "width": 157
           }
          ],
          "columnsGroups": [
           {
            "captionProducer": "firstColumn",
            "cellFactory": "kpi-status",
            "selector": "kpi-status"
           },
           {
            "captionProducer": "firstColumn",
            "cellFactory": "lookup",
            "selector": "lookup"
           },
           {
            "captionProducer": "expiry",
            "cellFactory": "expiry",
            "selector": "kpi-expiry"
           },
           {
            "captionProducer": "columnMerge",
            "cellFactory": {
             "args": {
              "automaticExpansion": true
             },
             "key": "treeCells"
            },
            "selector": "member"
           }
          ],
          "defaultOptions": {},
          "hideAddButton": true,
          "lineNumbers": true,
          "pinnedHeaderSelector": "member",
          "sortingMode": "non-breaking",
          "statisticsShown": true
         }
        },
        "contextValues": {
         "F1Cube": {
          "mdx.hiddengrandtotals": "1"
         }
        },
        "mdx": "SELECT NON EMPTY Crossjoin(Hierarchize([Measure Simulations].[pointssystem_sim].[pointssystem_sim].Members), [Measures].[Total Points]) ON COLUMNS, NON EMPTY Order(DrilldownLevel([Hierarchies].[driverRef].[ALL].[AllMember]), ([Measure Simulations].[pointssystem_sim].[pointssystem_sim].[System 2015 to 2018], [Measures].[Total Points]), DESC) ON ROWS FROM [F1Cube] WHERE ([Hierarchies].[name].[ALL].[AllMember].[Brazilian Grand Prix], [Hierarchies].[year].[ALL].[AllMember].[2008]) CELL PROPERTIES VALUE, FORMATTED_VALUE, BACK_COLOR, FORE_COLOR, FONT_FLAGS",
        "ranges": {
         "column": {
          "chunkSize": 50,
          "thresholdPercentage": 0.2
         },
         "row": {
          "chunkSize": 2000,
          "thresholdPercentage": 0.1
         }
        },
        "serverUrl": "",
        "updateMode": "once"
       },
       "containerKey": "pivot-table",
       "showTitleBar": false,
       "style": {}
      }
     }
    }
   },
   "outputs": [],
   "source": [
    "# dataviz3\n",
    "f1cube.visualize('Base vs. Simulation - Brazil 2008')"
   ]
  },
  {
   "cell_type": "code",
   "execution_count": null,
   "metadata": {
    "activeviam": {
     "state": {
      "name": "Base vs. System 2015 to 2018 scenario - 1994 Championship table",
      "type": "container",
      "value": {
       "body": {
        "configuration": {
         "tabular": {
          "addButtonFilter": "numeric",
          "columns": [
           {
            "key": "([Measure Simulations].[pointssystem_sim].[pointssystem_sim].[System 1991 to 2002],[Measures].[Total Points])",
            "width": 152
           },
           {
            "key": "([Measure Simulations].[pointssystem_sim].[pointssystem_sim].[System 2003 to 2009],[Measures].[Total Points])",
            "width": 165
           },
           {
            "key": "([Measure Simulations].[pointssystem_sim].[pointssystem_sim].[System 2015 to 2018],[Measures].[Total Points])",
            "width": 169
           }
          ],
          "columnsGroups": [
           {
            "captionProducer": "firstColumn",
            "cellFactory": "kpi-status",
            "selector": "kpi-status"
           },
           {
            "captionProducer": "firstColumn",
            "cellFactory": "lookup",
            "selector": "lookup"
           },
           {
            "captionProducer": "expiry",
            "cellFactory": "expiry",
            "selector": "kpi-expiry"
           },
           {
            "captionProducer": "columnMerge",
            "cellFactory": {
             "args": {
              "automaticExpansion": true
             },
             "key": "treeCells"
            },
            "selector": "member"
           }
          ],
          "defaultOptions": {},
          "hideAddButton": true,
          "lineNumbers": true,
          "pinnedHeaderSelector": "member",
          "sortingMode": "non-breaking",
          "statisticsShown": true
         }
        },
        "contextValues": {
         "F1Cube": {
          "mdx.hiddengrandtotals": "1"
         }
        },
        "mdx": "SELECT NON EMPTY Order(Order(Hierarchize(DrilldownLevel([Hierarchies].[driverRef].[ALL].[AllMember])), ([Hierarchies].[raceId].[ALL].[AllMember].[18], [Measure Simulations].[pointssystem_sim].[pointssystem_sim].[System 2015 to 2018], [Measures].[points.SUM]), DESC), ([Measure Simulations].[pointssystem_sim].[pointssystem_sim].[System 2015 to 2018], [Measures].[Total Points]), DESC) ON ROWS, NON EMPTY Crossjoin(Hierarchize([Measure Simulations].[pointssystem_sim].[pointssystem_sim].Members), [Measures].[Total Points]) ON COLUMNS FROM [F1Cube] WHERE [Hierarchies].[year].[ALL].[AllMember].[2008] CELL PROPERTIES VALUE, FORMATTED_VALUE, BACK_COLOR, FORE_COLOR, FONT_FLAGS",
        "ranges": {
         "column": {
          "chunkSize": 50,
          "thresholdPercentage": 0.2
         },
         "row": {
          "chunkSize": 2000,
          "thresholdPercentage": 0.1
         }
        },
        "serverUrl": "",
        "updateMode": "once"
       },
       "containerKey": "pivot-table",
       "showTitleBar": false,
       "style": {}
      }
     }
    }
   },
   "outputs": [],
   "source": [
    "# dataviz4\n",
    "f1cube.visualize('Base vs. Simulation - 2008 Championship table')"
   ]
  },
  {
   "cell_type": "code",
   "execution_count": 207,
   "metadata": {
    "activeviam": {
     "height": 530,
     "state": {
      "name": "Base vs. Simulation System 1991 to 2002 - 2008 Championship",
      "type": "container",
      "value": {
       "body": {
        "configuration": {
         "mapping": {
          "horizontal": [],
          "splitBy": [
           "[Measure Simulations].[pointssystem_sim].[pointssystem_sim]"
          ],
          "values": [
           "[Measures].[Total Points]"
          ],
          "vertical": [],
          "xAxis": [
           "[Hierarchies].[driverRef].[driverRef]"
          ]
         },
         "plotly": {
          "layout": {
           "xaxis": {
            "title": {
             "text": "Total points"
            }
           },
           "yaxis": {
            "categoryorder": "total ascending",
            "title": {
             "text": "Drivers"
            }
           }
          }
         },
         "switchedTo": "plotly-clustered-bar-chart",
         "type": "plotly-clustered-column-chart"
        },
        "query": {
         "mdx": "SELECT NON EMPTY [Measures].[Total Points] ON COLUMNS, NON EMPTY Crossjoin([Hierarchies].[driverRef].[driverRef].Members, [Measure Simulations].[pointssystem_sim].[pointssystem_sim].Members) ON ROWS FROM (SELECT TopCount(Filter([Hierarchies].[driverRef].Levels(1).Members, NOT IsEmpty([Measures].[Total Points])), 10, [Measures].[Total Points]) ON COLUMNS FROM (SELECT {[Measure Simulations].[pointssystem_sim].[pointssystem_sim].[Base], [Measure Simulations].[pointssystem_sim].[pointssystem_sim].[System 1991 to 2002]} ON COLUMNS FROM [F1Cube] WHERE [Hierarchies].[year].[ALL].[AllMember].[2008]) WHERE [Hierarchies].[year].[ALL].[AllMember].[2008]) WHERE [Hierarchies].[year].[ALL].[AllMember].[2008] CELL PROPERTIES VALUE, FORMATTED_VALUE, BACK_COLOR, FORE_COLOR, FONT_FLAGS",
         "serverUrl": "",
         "updateMode": "once"
        }
       },
       "containerKey": "chart",
       "showTitleBar": true,
       "style": {}
      }
     }
    }
   },
   "outputs": [
    {
     "data": {
      "application/vnd.activeviam.v0+json": {
       "cube": "F1Cube",
       "name": "Base vs. Simulation System 1991 to 2002 - 2008 Championship",
       "session": "Unnamed"
      },
      "text/plain": [
       "Install the ActiveViam JupyterLab extension to see this widget."
      ]
     },
     "metadata": {},
     "output_type": "display_data"
    }
   ],
   "source": [
    "# dataviz5\n",
    "f1cube.visualize('Base vs. Simulation System 1991 to 2002 - 2008 Championship')"
   ]
  },
  {
   "cell_type": "code",
   "execution_count": null,
   "metadata": {},
   "outputs": [],
   "source": []
  }
 ],
 "metadata": {
  "kernelspec": {
   "display_name": "Python 3",
   "language": "python",
   "name": "python3"
  },
  "language_info": {
   "codemirror_mode": {
    "name": "ipython",
    "version": 3
   },
   "file_extension": ".py",
   "mimetype": "text/x-python",
   "name": "python",
   "nbconvert_exporter": "python",
   "pygments_lexer": "ipython3",
   "version": "3.7.6"
  }
 },
 "nbformat": 4,
 "nbformat_minor": 4
}
